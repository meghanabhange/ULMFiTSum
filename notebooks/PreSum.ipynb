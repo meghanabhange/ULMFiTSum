{
  "nbformat": 4,
  "nbformat_minor": 0,
  "metadata": {
    "colab": {
      "name": "PreSum.ipynb",
      "version": "0.3.2",
      "provenance": [],
      "include_colab_link": true
    },
    "kernelspec": {
      "name": "python3",
      "display_name": "Python 3"
    },
    "accelerator": "GPU"
  },
  "cells": [
    {
      "cell_type": "markdown",
      "metadata": {
        "id": "view-in-github",
        "colab_type": "text"
      },
      "source": [
        "<a href=\"https://colab.research.google.com/github/meghanabhange/ULMFiTSum/blob/dev/notebooks/PreSum.ipynb\" target=\"_parent\"><img src=\"https://colab.research.google.com/assets/colab-badge.svg\" alt=\"Open In Colab\"/></a>"
      ]
    },
    {
      "cell_type": "markdown",
      "metadata": {
        "id": "W4o-cW5W89PU",
        "colab_type": "text"
      },
      "source": [
        "# Get the Data\n",
        "- Clone PreSumm Fork\n",
        "- Get The Data"
      ]
    },
    {
      "cell_type": "code",
      "metadata": {
        "id": "Y34UReMunWmV",
        "colab_type": "code",
        "outputId": "49faa330-de1f-41cf-beea-b52b3f5b6d44",
        "colab": {
          "base_uri": "https://localhost:8080/",
          "height": 136
        }
      },
      "source": [
        "!git clone https://github.com/meghanabhange/PreSumm.git"
      ],
      "execution_count": 1,
      "outputs": [
        {
          "output_type": "stream",
          "text": [
            "Cloning into 'PreSumm'...\n",
            "remote: Enumerating objects: 131, done.\u001b[K\n",
            "remote: Counting objects: 100% (131/131), done.\u001b[K\n",
            "remote: Compressing objects: 100% (106/106), done.\u001b[K\n",
            "remote: Total 131 (delta 55), reused 79 (delta 22), pack-reused 0\u001b[K\n",
            "Receiving objects: 100% (131/131), 12.96 MiB | 7.38 MiB/s, done.\n",
            "Resolving deltas: 100% (55/55), done.\n"
          ],
          "name": "stdout"
        }
      ]
    },
    {
      "cell_type": "code",
      "metadata": {
        "id": "1CUyKasAnZ0A",
        "colab_type": "code",
        "outputId": "6bf365e6-f2f1-45fa-ecc8-44d32e8d759c",
        "colab": {
          "base_uri": "https://localhost:8080/",
          "height": 1000
        }
      },
      "source": [
        "!pip install gdown                #Dowloading Data\n",
        "!pip install pytorch-transformers # PreSumm Reqs\n",
        "!pip install tensorboardX         # PreSumm Reqs\n",
        "!pip install pyrouge              # PreSumm Reqs"
      ],
      "execution_count": 2,
      "outputs": [
        {
          "output_type": "stream",
          "text": [
            "Requirement already satisfied: gdown in /usr/local/lib/python3.6/dist-packages (3.6.4)\n",
            "Requirement already satisfied: requests in /usr/local/lib/python3.6/dist-packages (from gdown) (2.21.0)\n",
            "Requirement already satisfied: tqdm in /usr/local/lib/python3.6/dist-packages (from gdown) (4.28.1)\n",
            "Requirement already satisfied: six in /usr/local/lib/python3.6/dist-packages (from gdown) (1.12.0)\n",
            "Requirement already satisfied: urllib3<1.25,>=1.21.1 in /usr/local/lib/python3.6/dist-packages (from requests->gdown) (1.24.3)\n",
            "Requirement already satisfied: certifi>=2017.4.17 in /usr/local/lib/python3.6/dist-packages (from requests->gdown) (2019.6.16)\n",
            "Requirement already satisfied: chardet<3.1.0,>=3.0.2 in /usr/local/lib/python3.6/dist-packages (from requests->gdown) (3.0.4)\n",
            "Requirement already satisfied: idna<2.9,>=2.5 in /usr/local/lib/python3.6/dist-packages (from requests->gdown) (2.8)\n",
            "Collecting pytorch-transformers\n",
            "\u001b[?25l  Downloading https://files.pythonhosted.org/packages/a3/b7/d3d18008a67e0b968d1ab93ad444fc05699403fa662f634b2f2c318a508b/pytorch_transformers-1.2.0-py3-none-any.whl (176kB)\n",
            "\u001b[K     |████████████████████████████████| 184kB 50.6MB/s \n",
            "\u001b[?25hRequirement already satisfied: boto3 in /usr/local/lib/python3.6/dist-packages (from pytorch-transformers) (1.9.224)\n",
            "Collecting sentencepiece (from pytorch-transformers)\n",
            "\u001b[?25l  Downloading https://files.pythonhosted.org/packages/14/3d/efb655a670b98f62ec32d66954e1109f403db4d937c50d779a75b9763a29/sentencepiece-0.1.83-cp36-cp36m-manylinux1_x86_64.whl (1.0MB)\n",
            "\u001b[K     |████████████████████████████████| 1.0MB 59.5MB/s \n",
            "\u001b[?25hRequirement already satisfied: numpy in /usr/local/lib/python3.6/dist-packages (from pytorch-transformers) (1.16.5)\n",
            "Collecting sacremoses (from pytorch-transformers)\n",
            "\u001b[?25l  Downloading https://files.pythonhosted.org/packages/df/24/0b86f494d3a5c7531f6d0c77d39fd8f9d42e651244505d3d737e31db9a4d/sacremoses-0.0.33.tar.gz (802kB)\n",
            "\u001b[K     |████████████████████████████████| 808kB 52.5MB/s \n",
            "\u001b[?25hRequirement already satisfied: requests in /usr/local/lib/python3.6/dist-packages (from pytorch-transformers) (2.21.0)\n",
            "Collecting regex (from pytorch-transformers)\n",
            "\u001b[?25l  Downloading https://files.pythonhosted.org/packages/6f/a6/99eeb5904ab763db87af4bd71d9b1dfdd9792681240657a4c0a599c10a81/regex-2019.08.19.tar.gz (654kB)\n",
            "\u001b[K     |████████████████████████████████| 655kB 44.1MB/s \n",
            "\u001b[?25hRequirement already satisfied: torch>=1.0.0 in /usr/local/lib/python3.6/dist-packages (from pytorch-transformers) (1.1.0)\n",
            "Requirement already satisfied: tqdm in /usr/local/lib/python3.6/dist-packages (from pytorch-transformers) (4.28.1)\n",
            "Requirement already satisfied: jmespath<1.0.0,>=0.7.1 in /usr/local/lib/python3.6/dist-packages (from boto3->pytorch-transformers) (0.9.4)\n",
            "Requirement already satisfied: botocore<1.13.0,>=1.12.224 in /usr/local/lib/python3.6/dist-packages (from boto3->pytorch-transformers) (1.12.224)\n",
            "Requirement already satisfied: s3transfer<0.3.0,>=0.2.0 in /usr/local/lib/python3.6/dist-packages (from boto3->pytorch-transformers) (0.2.1)\n",
            "Requirement already satisfied: six in /usr/local/lib/python3.6/dist-packages (from sacremoses->pytorch-transformers) (1.12.0)\n",
            "Requirement already satisfied: click in /usr/local/lib/python3.6/dist-packages (from sacremoses->pytorch-transformers) (7.0)\n",
            "Requirement already satisfied: joblib in /usr/local/lib/python3.6/dist-packages (from sacremoses->pytorch-transformers) (0.13.2)\n",
            "Requirement already satisfied: urllib3<1.25,>=1.21.1 in /usr/local/lib/python3.6/dist-packages (from requests->pytorch-transformers) (1.24.3)\n",
            "Requirement already satisfied: certifi>=2017.4.17 in /usr/local/lib/python3.6/dist-packages (from requests->pytorch-transformers) (2019.6.16)\n",
            "Requirement already satisfied: idna<2.9,>=2.5 in /usr/local/lib/python3.6/dist-packages (from requests->pytorch-transformers) (2.8)\n",
            "Requirement already satisfied: chardet<3.1.0,>=3.0.2 in /usr/local/lib/python3.6/dist-packages (from requests->pytorch-transformers) (3.0.4)\n",
            "Requirement already satisfied: python-dateutil<3.0.0,>=2.1; python_version >= \"2.7\" in /usr/local/lib/python3.6/dist-packages (from botocore<1.13.0,>=1.12.224->boto3->pytorch-transformers) (2.5.3)\n",
            "Requirement already satisfied: docutils<0.16,>=0.10 in /usr/local/lib/python3.6/dist-packages (from botocore<1.13.0,>=1.12.224->boto3->pytorch-transformers) (0.15.2)\n",
            "Building wheels for collected packages: sacremoses, regex\n",
            "  Building wheel for sacremoses (setup.py) ... \u001b[?25l\u001b[?25hdone\n",
            "  Created wheel for sacremoses: filename=sacremoses-0.0.33-cp36-none-any.whl size=833106 sha256=c19b05b9146a8867241e5a2dc6c63b9301d478aff0578297c87ba34f07226dc7\n",
            "  Stored in directory: /root/.cache/pip/wheels/70/87/56/e40575cca30d12fee8875d523b8878b7aba866a9f03b2fd983\n",
            "  Building wheel for regex (setup.py) ... \u001b[?25l\u001b[?25hdone\n",
            "  Created wheel for regex: filename=regex-2019.8.19-cp36-cp36m-linux_x86_64.whl size=609225 sha256=f335ff155a592448b85c5336c92e2397a271259012a8e64cdfe493c807edc6e0\n",
            "  Stored in directory: /root/.cache/pip/wheels/90/04/07/b5010fb816721eb3d6dd64ed5cc8111ca23f97fdab8619b5be\n",
            "Successfully built sacremoses regex\n",
            "Installing collected packages: sentencepiece, sacremoses, regex, pytorch-transformers\n",
            "Successfully installed pytorch-transformers-1.2.0 regex-2019.8.19 sacremoses-0.0.33 sentencepiece-0.1.83\n",
            "Collecting tensorboardX\n",
            "\u001b[?25l  Downloading https://files.pythonhosted.org/packages/c3/12/dcaf67e1312475b26db9e45e7bb6f32b540671a9ee120b3a72d9e09bc517/tensorboardX-1.8-py2.py3-none-any.whl (216kB)\n",
            "\u001b[K     |████████████████████████████████| 225kB 43.3MB/s \n",
            "\u001b[?25hRequirement already satisfied: six in /usr/local/lib/python3.6/dist-packages (from tensorboardX) (1.12.0)\n",
            "Requirement already satisfied: protobuf>=3.2.0 in /usr/local/lib/python3.6/dist-packages (from tensorboardX) (3.7.1)\n",
            "Requirement already satisfied: numpy in /usr/local/lib/python3.6/dist-packages (from tensorboardX) (1.16.5)\n",
            "Requirement already satisfied: setuptools in /usr/local/lib/python3.6/dist-packages (from protobuf>=3.2.0->tensorboardX) (41.2.0)\n",
            "Installing collected packages: tensorboardX\n",
            "Successfully installed tensorboardX-1.8\n",
            "Collecting pyrouge\n",
            "\u001b[?25l  Downloading https://files.pythonhosted.org/packages/11/85/e522dd6b36880ca19dcf7f262b22365748f56edc6f455e7b6a37d0382c32/pyrouge-0.1.3.tar.gz (60kB)\n",
            "\u001b[K     |████████████████████████████████| 61kB 28.1MB/s \n",
            "\u001b[?25hBuilding wheels for collected packages: pyrouge\n",
            "  Building wheel for pyrouge (setup.py) ... \u001b[?25l\u001b[?25hdone\n",
            "  Created wheel for pyrouge: filename=pyrouge-0.1.3-cp36-none-any.whl size=191613 sha256=48cdf5d410fce76efa3507268eca1379919b74f3a36dc407997e35ee787d9b99\n",
            "  Stored in directory: /root/.cache/pip/wheels/75/d3/0c/e5b04e15b6b87c42e980de3931d2686e14d36e045058983599\n",
            "Successfully built pyrouge\n",
            "Installing collected packages: pyrouge\n",
            "Successfully installed pyrouge-0.1.3\n"
          ],
          "name": "stdout"
        }
      ]
    },
    {
      "cell_type": "markdown",
      "metadata": {
        "id": "I3uXMIhV9YJN",
        "colab_type": "text"
      },
      "source": [
        "# Imports"
      ]
    },
    {
      "cell_type": "code",
      "metadata": {
        "id": "qTJXwg3_nyxP",
        "colab_type": "code",
        "colab": {}
      },
      "source": [
        "import gdown"
      ],
      "execution_count": 0,
      "outputs": []
    },
    {
      "cell_type": "markdown",
      "metadata": {
        "id": "FqTWL7rX-Pv7",
        "colab_type": "text"
      },
      "source": [
        "# Download and Unzip"
      ]
    },
    {
      "cell_type": "code",
      "metadata": {
        "id": "WLCnQGMHo4I0",
        "colab_type": "code",
        "outputId": "be330344-efdb-4b14-d4f9-3496fc8a8732",
        "colab": {
          "base_uri": "https://localhost:8080/",
          "height": 85
        }
      },
      "source": [
        "# Download PreProcessed data for CNN/Dailymail\n",
        "!gdown \"https://drive.google.com/uc?export=download&id=1DN7ClZCCXsk2KegmC6t4ClBwtAf5galI\""
      ],
      "execution_count": 4,
      "outputs": [
        {
          "output_type": "stream",
          "text": [
            "Downloading...\n",
            "From: https://drive.google.com/uc?export=download&id=1DN7ClZCCXsk2KegmC6t4ClBwtAf5galI\n",
            "To: /content/bert_data_cnndm_final.zip\n",
            "1.14GB [00:12, 94.2MB/s]\n"
          ],
          "name": "stdout"
        }
      ]
    },
    {
      "cell_type": "code",
      "metadata": {
        "id": "4do4n09OpJ_C",
        "colab_type": "code",
        "outputId": "c0d0b910-3667-4d69-b170-e9acf4e894bc",
        "colab": {
          "base_uri": "https://localhost:8080/",
          "height": 34
        }
      },
      "source": [
        "!ls"
      ],
      "execution_count": 5,
      "outputs": [
        {
          "output_type": "stream",
          "text": [
            "bert_data_cnndm_final.zip  PreSumm  sample_data\n"
          ],
          "name": "stdout"
        }
      ]
    },
    {
      "cell_type": "code",
      "metadata": {
        "id": "ITByC_pspVwq",
        "colab_type": "code",
        "outputId": "296cc820-f89c-4b26-ef41-faae2dc32c83",
        "colab": {
          "base_uri": "https://localhost:8080/",
          "height": 1000
        }
      },
      "source": [
        "!unzip bert_data_cnndm_final.zip -d PreSumm/bert_data"
      ],
      "execution_count": 6,
      "outputs": [
        {
          "output_type": "stream",
          "text": [
            "Archive:  bert_data_cnndm_final.zip\n",
            "   creating: PreSumm/bert_data/bert_data_cnndm_final/\n",
            "  inflating: PreSumm/bert_data/bert_data_cnndm_final/cnndm.test.0.bert.pt  \n",
            "  inflating: PreSumm/bert_data/bert_data_cnndm_final/cnndm.train.110.bert.pt  \n",
            "  inflating: PreSumm/bert_data/bert_data_cnndm_final/cnndm.train.47.bert.pt  \n",
            "  inflating: PreSumm/bert_data/bert_data_cnndm_final/cnndm.train.80.bert.pt  \n",
            "  inflating: PreSumm/bert_data/bert_data_cnndm_final/cnndm.train.48.bert.pt  \n",
            "  inflating: PreSumm/bert_data/bert_data_cnndm_final/cnndm.valid.0.bert.pt  \n",
            "  inflating: PreSumm/bert_data/bert_data_cnndm_final/cnndm.train.76.bert.pt  \n",
            "  inflating: PreSumm/bert_data/bert_data_cnndm_final/cnndm.train.128.bert.pt  \n",
            "  inflating: PreSumm/bert_data/bert_data_cnndm_final/cnndm.train.92.bert.pt  \n",
            "  inflating: PreSumm/bert_data/bert_data_cnndm_final/cnndm.train.62.bert.pt  \n",
            "  inflating: PreSumm/bert_data/bert_data_cnndm_final/cnndm.train.81.bert.pt  \n",
            "  inflating: PreSumm/bert_data/bert_data_cnndm_final/cnndm.train.28.bert.pt  \n",
            "  inflating: PreSumm/bert_data/bert_data_cnndm_final/cnndm.train.129.bert.pt  \n",
            "  inflating: PreSumm/bert_data/bert_data_cnndm_final/cnndm.train.1.bert.pt  \n",
            "  inflating: PreSumm/bert_data/bert_data_cnndm_final/cnndm.train.71.bert.pt  \n",
            "  inflating: PreSumm/bert_data/bert_data_cnndm_final/cnndm.train.7.bert.pt  \n",
            "  inflating: PreSumm/bert_data/bert_data_cnndm_final/cnndm.train.94.bert.pt  \n",
            "  inflating: PreSumm/bert_data/bert_data_cnndm_final/cnndm.train.83.bert.pt  \n",
            "  inflating: PreSumm/bert_data/bert_data_cnndm_final/cnndm.train.12.bert.pt  \n",
            "  inflating: PreSumm/bert_data/bert_data_cnndm_final/cnndm.train.10.bert.pt  \n",
            "  inflating: PreSumm/bert_data/bert_data_cnndm_final/cnndm.train.56.bert.pt  \n",
            "  inflating: PreSumm/bert_data/bert_data_cnndm_final/cnndm.train.139.bert.pt  \n",
            "  inflating: PreSumm/bert_data/bert_data_cnndm_final/cnndm.train.23.bert.pt  \n",
            "  inflating: PreSumm/bert_data/bert_data_cnndm_final/cnndm.train.134.bert.pt  \n",
            "  inflating: PreSumm/bert_data/bert_data_cnndm_final/cnndm.train.20.bert.pt  \n",
            "  inflating: PreSumm/bert_data/bert_data_cnndm_final/cnndm.valid.3.bert.pt  \n",
            "  inflating: PreSumm/bert_data/bert_data_cnndm_final/cnndm.train.67.bert.pt  \n",
            "  inflating: PreSumm/bert_data/bert_data_cnndm_final/cnndm.train.3.bert.pt  \n",
            "  inflating: PreSumm/bert_data/bert_data_cnndm_final/cnndm.train.77.bert.pt  \n",
            "  inflating: PreSumm/bert_data/bert_data_cnndm_final/cnndm.train.66.bert.pt  \n",
            "  inflating: PreSumm/bert_data/bert_data_cnndm_final/cnndm.train.25.bert.pt  \n",
            "  inflating: PreSumm/bert_data/bert_data_cnndm_final/cnndm.train.64.bert.pt  \n",
            "  inflating: PreSumm/bert_data/bert_data_cnndm_final/cnndm.train.55.bert.pt  \n",
            "  inflating: PreSumm/bert_data/bert_data_cnndm_final/cnndm.train.36.bert.pt  \n",
            "  inflating: PreSumm/bert_data/bert_data_cnndm_final/cnndm.train.119.bert.pt  \n",
            "  inflating: PreSumm/bert_data/bert_data_cnndm_final/cnndm.train.113.bert.pt  \n",
            "  inflating: PreSumm/bert_data/bert_data_cnndm_final/cnndm.train.52.bert.pt  \n",
            "  inflating: PreSumm/bert_data/bert_data_cnndm_final/cnndm.train.5.bert.pt  \n",
            "  inflating: PreSumm/bert_data/bert_data_cnndm_final/cnndm.train.130.bert.pt  \n",
            "  inflating: PreSumm/bert_data/bert_data_cnndm_final/cnndm.train.88.bert.pt  \n",
            "  inflating: PreSumm/bert_data/bert_data_cnndm_final/cnndm.train.63.bert.pt  \n",
            "  inflating: PreSumm/bert_data/bert_data_cnndm_final/cnndm.train.31.bert.pt  \n",
            "  inflating: PreSumm/bert_data/bert_data_cnndm_final/cnndm.train.17.bert.pt  \n",
            "  inflating: PreSumm/bert_data/bert_data_cnndm_final/cnndm.test.1.bert.pt  \n",
            "  inflating: PreSumm/bert_data/bert_data_cnndm_final/cnndm.train.137.bert.pt  \n",
            "  inflating: PreSumm/bert_data/bert_data_cnndm_final/cnndm.train.112.bert.pt  \n",
            "  inflating: PreSumm/bert_data/bert_data_cnndm_final/cnndm.train.140.bert.pt  \n",
            "  inflating: PreSumm/bert_data/bert_data_cnndm_final/cnndm.train.65.bert.pt  \n",
            "  inflating: PreSumm/bert_data/bert_data_cnndm_final/cnndm.train.85.bert.pt  \n",
            "  inflating: PreSumm/bert_data/bert_data_cnndm_final/cnndm.train.82.bert.pt  \n",
            "  inflating: PreSumm/bert_data/bert_data_cnndm_final/cnndm.train.141.bert.pt  \n",
            "  inflating: PreSumm/bert_data/bert_data_cnndm_final/cnndm.train.69.bert.pt  \n",
            "  inflating: PreSumm/bert_data/bert_data_cnndm_final/cnndm.train.107.bert.pt  \n",
            "  inflating: PreSumm/bert_data/bert_data_cnndm_final/cnndm.train.57.bert.pt  \n",
            "  inflating: PreSumm/bert_data/bert_data_cnndm_final/cnndm.valid.2.bert.pt  \n",
            "  inflating: PreSumm/bert_data/bert_data_cnndm_final/cnndm.train.18.bert.pt  \n",
            "  inflating: PreSumm/bert_data/bert_data_cnndm_final/cnndm.train.131.bert.pt  \n",
            "  inflating: PreSumm/bert_data/bert_data_cnndm_final/cnndm.train.26.bert.pt  \n",
            "  inflating: PreSumm/bert_data/bert_data_cnndm_final/cnndm.train.70.bert.pt  \n",
            "  inflating: PreSumm/bert_data/bert_data_cnndm_final/cnndm.train.41.bert.pt  \n",
            "  inflating: PreSumm/bert_data/bert_data_cnndm_final/cnndm.train.87.bert.pt  \n",
            "  inflating: PreSumm/bert_data/bert_data_cnndm_final/cnndm.train.24.bert.pt  \n",
            "  inflating: PreSumm/bert_data/bert_data_cnndm_final/cnndm.train.99.bert.pt  \n",
            "  inflating: PreSumm/bert_data/bert_data_cnndm_final/cnndm.train.115.bert.pt  \n",
            "  inflating: PreSumm/bert_data/bert_data_cnndm_final/cnndm.train.89.bert.pt  \n",
            "  inflating: PreSumm/bert_data/bert_data_cnndm_final/cnndm.train.53.bert.pt  \n",
            "  inflating: PreSumm/bert_data/bert_data_cnndm_final/cnndm.train.108.bert.pt  \n",
            "  inflating: PreSumm/bert_data/bert_data_cnndm_final/cnndm.train.43.bert.pt  \n",
            "  inflating: PreSumm/bert_data/bert_data_cnndm_final/cnndm.test.3.bert.pt  \n",
            "  inflating: PreSumm/bert_data/bert_data_cnndm_final/cnndm.train.118.bert.pt  \n",
            "  inflating: PreSumm/bert_data/bert_data_cnndm_final/cnndm.train.13.bert.pt  \n",
            "  inflating: PreSumm/bert_data/bert_data_cnndm_final/cnndm.train.120.bert.pt  \n",
            "  inflating: PreSumm/bert_data/bert_data_cnndm_final/cnndm.train.49.bert.pt  \n",
            "  inflating: PreSumm/bert_data/bert_data_cnndm_final/cnndm.train.125.bert.pt  \n",
            "  inflating: PreSumm/bert_data/bert_data_cnndm_final/cnndm.train.68.bert.pt  \n",
            "  inflating: PreSumm/bert_data/bert_data_cnndm_final/cnndm.train.45.bert.pt  \n",
            "  inflating: PreSumm/bert_data/bert_data_cnndm_final/cnndm.train.102.bert.pt  \n",
            "  inflating: PreSumm/bert_data/bert_data_cnndm_final/cnndm.train.72.bert.pt  \n",
            "  inflating: PreSumm/bert_data/bert_data_cnndm_final/cnndm.train.16.bert.pt  \n",
            "  inflating: PreSumm/bert_data/bert_data_cnndm_final/cnndm.train.8.bert.pt  \n",
            "  inflating: PreSumm/bert_data/bert_data_cnndm_final/cnndm.train.101.bert.pt  \n",
            "  inflating: PreSumm/bert_data/bert_data_cnndm_final/cnndm.train.93.bert.pt  \n",
            "  inflating: PreSumm/bert_data/bert_data_cnndm_final/cnndm.train.103.bert.pt  \n",
            "  inflating: PreSumm/bert_data/bert_data_cnndm_final/cnndm.train.29.bert.pt  \n",
            "  inflating: PreSumm/bert_data/bert_data_cnndm_final/cnndm.train.42.bert.pt  \n",
            "  inflating: PreSumm/bert_data/bert_data_cnndm_final/cnndm.train.19.bert.pt  \n",
            "  inflating: PreSumm/bert_data/bert_data_cnndm_final/cnndm.train.73.bert.pt  \n",
            "  inflating: PreSumm/bert_data/bert_data_cnndm_final/cnndm.valid.4.bert.pt  \n",
            "  inflating: PreSumm/bert_data/bert_data_cnndm_final/cnndm.train.86.bert.pt  \n",
            "  inflating: PreSumm/bert_data/bert_data_cnndm_final/cnndm.train.117.bert.pt  \n",
            "  inflating: PreSumm/bert_data/bert_data_cnndm_final/cnndm.test.4.bert.pt  \n",
            "  inflating: PreSumm/bert_data/bert_data_cnndm_final/cnndm.train.138.bert.pt  \n",
            "  inflating: PreSumm/bert_data/bert_data_cnndm_final/cnndm.train.0.bert.pt  \n",
            "  inflating: PreSumm/bert_data/bert_data_cnndm_final/cnndm.train.74.bert.pt  \n",
            "  inflating: PreSumm/bert_data/bert_data_cnndm_final/cnndm.train.90.bert.pt  \n",
            "  inflating: PreSumm/bert_data/bert_data_cnndm_final/cnndm.train.75.bert.pt  \n",
            "  inflating: PreSumm/bert_data/bert_data_cnndm_final/cnndm.train.51.bert.pt  \n",
            "  inflating: PreSumm/bert_data/bert_data_cnndm_final/cnndm.valid.5.bert.pt  \n",
            "  inflating: PreSumm/bert_data/bert_data_cnndm_final/cnndm.valid.6.bert.pt  \n",
            "  inflating: PreSumm/bert_data/bert_data_cnndm_final/cnndm.train.79.bert.pt  \n",
            "  inflating: PreSumm/bert_data/bert_data_cnndm_final/cnndm.test.2.bert.pt  \n",
            "  inflating: PreSumm/bert_data/bert_data_cnndm_final/cnndm.train.61.bert.pt  \n",
            "  inflating: PreSumm/bert_data/bert_data_cnndm_final/cnndm.train.126.bert.pt  \n",
            "  inflating: PreSumm/bert_data/bert_data_cnndm_final/cnndm.train.15.bert.pt  \n",
            "  inflating: PreSumm/bert_data/bert_data_cnndm_final/cnndm.train.35.bert.pt  \n",
            "  inflating: PreSumm/bert_data/bert_data_cnndm_final/cnndm.train.33.bert.pt  \n",
            "  inflating: PreSumm/bert_data/bert_data_cnndm_final/cnndm.train.54.bert.pt  \n",
            "  inflating: PreSumm/bert_data/bert_data_cnndm_final/cnndm.train.136.bert.pt  \n",
            "  inflating: PreSumm/bert_data/bert_data_cnndm_final/cnndm.train.106.bert.pt  \n",
            "  inflating: PreSumm/bert_data/bert_data_cnndm_final/cnndm.train.46.bert.pt  \n",
            "  inflating: PreSumm/bert_data/bert_data_cnndm_final/cnndm.train.37.bert.pt  \n",
            "  inflating: PreSumm/bert_data/bert_data_cnndm_final/cnndm.train.100.bert.pt  \n",
            "  inflating: PreSumm/bert_data/bert_data_cnndm_final/cnndm.train.135.bert.pt  \n",
            "  inflating: PreSumm/bert_data/bert_data_cnndm_final/cnndm.train.30.bert.pt  \n",
            "  inflating: PreSumm/bert_data/bert_data_cnndm_final/cnndm.train.104.bert.pt  \n",
            "  inflating: PreSumm/bert_data/bert_data_cnndm_final/cnndm.train.59.bert.pt  \n",
            "  inflating: PreSumm/bert_data/bert_data_cnndm_final/cnndm.train.97.bert.pt  \n",
            "  inflating: PreSumm/bert_data/bert_data_cnndm_final/cnndm.train.122.bert.pt  \n",
            "  inflating: PreSumm/bert_data/bert_data_cnndm_final/cnndm.train.60.bert.pt  \n",
            "  inflating: PreSumm/bert_data/bert_data_cnndm_final/cnndm.train.133.bert.pt  \n",
            "  inflating: PreSumm/bert_data/bert_data_cnndm_final/cnndm.train.2.bert.pt  \n",
            "  inflating: PreSumm/bert_data/bert_data_cnndm_final/cnndm.train.105.bert.pt  \n",
            "  inflating: PreSumm/bert_data/bert_data_cnndm_final/cnndm.train.124.bert.pt  \n",
            "  inflating: PreSumm/bert_data/bert_data_cnndm_final/cnndm.valid.1.bert.pt  \n",
            "  inflating: PreSumm/bert_data/bert_data_cnndm_final/cnndm.train.111.bert.pt  \n",
            "  inflating: PreSumm/bert_data/bert_data_cnndm_final/cnndm.train.58.bert.pt  \n",
            "  inflating: PreSumm/bert_data/bert_data_cnndm_final/cnndm.train.32.bert.pt  \n",
            "  inflating: PreSumm/bert_data/bert_data_cnndm_final/cnndm.train.4.bert.pt  \n",
            "  inflating: PreSumm/bert_data/bert_data_cnndm_final/cnndm.train.109.bert.pt  \n",
            "  inflating: PreSumm/bert_data/bert_data_cnndm_final/cnndm.train.84.bert.pt  \n",
            "  inflating: PreSumm/bert_data/bert_data_cnndm_final/cnndm.train.14.bert.pt  \n",
            "  inflating: PreSumm/bert_data/bert_data_cnndm_final/cnndm.train.114.bert.pt  \n",
            "  inflating: PreSumm/bert_data/bert_data_cnndm_final/cnndm.train.21.bert.pt  \n",
            "  inflating: PreSumm/bert_data/bert_data_cnndm_final/cnndm.train.142.bert.pt  \n",
            "  inflating: PreSumm/bert_data/bert_data_cnndm_final/cnndm.train.11.bert.pt  \n",
            "  inflating: PreSumm/bert_data/bert_data_cnndm_final/cnndm.train.34.bert.pt  \n",
            "  inflating: PreSumm/bert_data/bert_data_cnndm_final/cnndm.train.44.bert.pt  \n",
            "  inflating: PreSumm/bert_data/bert_data_cnndm_final/cnndm.train.132.bert.pt  \n",
            "  inflating: PreSumm/bert_data/bert_data_cnndm_final/cnndm.train.27.bert.pt  \n",
            "  inflating: PreSumm/bert_data/bert_data_cnndm_final/cnndm.train.143.bert.pt  \n",
            "  inflating: PreSumm/bert_data/bert_data_cnndm_final/cnndm.train.38.bert.pt  \n",
            "  inflating: PreSumm/bert_data/bert_data_cnndm_final/cnndm.train.40.bert.pt  \n",
            "  inflating: PreSumm/bert_data/bert_data_cnndm_final/cnndm.train.121.bert.pt  \n",
            "  inflating: PreSumm/bert_data/bert_data_cnndm_final/cnndm.test.5.bert.pt  \n",
            "  inflating: PreSumm/bert_data/bert_data_cnndm_final/cnndm.train.96.bert.pt  \n",
            "  inflating: PreSumm/bert_data/bert_data_cnndm_final/cnndm.train.6.bert.pt  \n",
            "  inflating: PreSumm/bert_data/bert_data_cnndm_final/cnndm.train.116.bert.pt  \n",
            "  inflating: PreSumm/bert_data/bert_data_cnndm_final/cnndm.train.98.bert.pt  \n",
            "  inflating: PreSumm/bert_data/bert_data_cnndm_final/cnndm.train.22.bert.pt  \n",
            "  inflating: PreSumm/bert_data/bert_data_cnndm_final/cnndm.train.39.bert.pt  \n",
            "  inflating: PreSumm/bert_data/bert_data_cnndm_final/cnndm.train.50.bert.pt  \n",
            "  inflating: PreSumm/bert_data/bert_data_cnndm_final/cnndm.train.78.bert.pt  \n",
            "  inflating: PreSumm/bert_data/bert_data_cnndm_final/cnndm.train.95.bert.pt  \n",
            "  inflating: PreSumm/bert_data/bert_data_cnndm_final/cnndm.train.123.bert.pt  \n",
            "  inflating: PreSumm/bert_data/bert_data_cnndm_final/cnndm.train.9.bert.pt  \n",
            "  inflating: PreSumm/bert_data/bert_data_cnndm_final/cnndm.train.127.bert.pt  \n",
            "  inflating: PreSumm/bert_data/bert_data_cnndm_final/cnndm.train.91.bert.pt  \n"
          ],
          "name": "stdout"
        }
      ]
    },
    {
      "cell_type": "code",
      "metadata": {
        "id": "zW1DylS2pnt7",
        "colab_type": "code",
        "colab": {}
      },
      "source": [
        "import os\n",
        "os.chdir('PreSumm')"
      ],
      "execution_count": 0,
      "outputs": []
    },
    {
      "cell_type": "code",
      "metadata": {
        "id": "mmVt3YXPtKTj",
        "colab_type": "code",
        "outputId": "edd2d19e-c5e6-4d16-d9dc-f5f9d2405372",
        "colab": {
          "base_uri": "https://localhost:8080/",
          "height": 51
        }
      },
      "source": [
        "!ls"
      ],
      "execution_count": 8,
      "outputs": [
        {
          "output_type": "stream",
          "text": [
            "bert_data  LICENSE  models    README.md  src\n",
            "json_data  logs     raw_data  results\t urls\n"
          ],
          "name": "stdout"
        }
      ]
    },
    {
      "cell_type": "code",
      "metadata": {
        "id": "S9SivUJc5rVY",
        "colab_type": "code",
        "colab": {}
      },
      "source": [
        "#Todo fix this\n",
        "!cp bert_data/bert_data_cnndm_final/cnndm.train.100.bert.pt bert.train.pt\n",
        "!mkdir ../logs #To fix this error `FileNotFoundError: [Errno 2] No such file or directory: '/content/logs/ext_bert_cnndm'`"
      ],
      "execution_count": 0,
      "outputs": []
    },
    {
      "cell_type": "markdown",
      "metadata": {
        "id": "jLRfj360-UKM",
        "colab_type": "text"
      },
      "source": [
        "# Train"
      ]
    },
    {
      "cell_type": "code",
      "metadata": {
        "id": "FR2c3EIvqa55",
        "colab_type": "code",
        "outputId": "25ed8338-2388-4f3b-b899-557739458f39",
        "colab": {
          "base_uri": "https://localhost:8080/",
          "height": 1000
        }
      },
      "source": [
        "!python src/train.py -task ext -mode train -bert_data_path bert -ext_dropout 0.1 -model_path models -lr 2e-3 -visible_gpus 0 -report_every 50 -save_checkpoint_steps 1000 -batch_size 3000 -train_steps 50000 -accum_count 2 -log_file ../logs/ext_bert_cnndm -use_interval true -warmup_steps 10000 -max_pos 512"
      ],
      "execution_count": 14,
      "outputs": [
        {
          "output_type": "stream",
          "text": [
            "[2019-09-14 13:33:05,068 INFO] Device ID 0\n",
            "[2019-09-14 13:33:05,068 INFO] Device cuda\n",
            "[2019-09-14 13:33:05,779 INFO] https://s3.amazonaws.com/models.huggingface.co/bert/bert-base-uncased-config.json not found in cache or force_download set to True, downloading to /tmp/tmp3qgul28k\n",
            "100% 313/313 [00:00<00:00, 213639.89B/s]\n",
            "[2019-09-14 13:33:06,434 INFO] copying /tmp/tmp3qgul28k to cache at ../temp/4dad0251492946e18ac39290fcfe91b89d370fee250efe9521476438fe8ca185.bf3b9ea126d8c0001ee8a1e8b92229871d06d36d8808208cc2449280da87785c\n",
            "[2019-09-14 13:33:06,434 INFO] creating metadata file for ../temp/4dad0251492946e18ac39290fcfe91b89d370fee250efe9521476438fe8ca185.bf3b9ea126d8c0001ee8a1e8b92229871d06d36d8808208cc2449280da87785c\n",
            "[2019-09-14 13:33:06,435 INFO] removing temp file /tmp/tmp3qgul28k\n",
            "[2019-09-14 13:33:06,435 INFO] loading configuration file https://s3.amazonaws.com/models.huggingface.co/bert/bert-base-uncased-config.json from cache at ../temp/4dad0251492946e18ac39290fcfe91b89d370fee250efe9521476438fe8ca185.bf3b9ea126d8c0001ee8a1e8b92229871d06d36d8808208cc2449280da87785c\n",
            "[2019-09-14 13:33:06,435 INFO] Model config {\n",
            "  \"attention_probs_dropout_prob\": 0.1,\n",
            "  \"finetuning_task\": null,\n",
            "  \"hidden_act\": \"gelu\",\n",
            "  \"hidden_dropout_prob\": 0.1,\n",
            "  \"hidden_size\": 768,\n",
            "  \"initializer_range\": 0.02,\n",
            "  \"intermediate_size\": 3072,\n",
            "  \"layer_norm_eps\": 1e-12,\n",
            "  \"max_position_embeddings\": 512,\n",
            "  \"num_attention_heads\": 12,\n",
            "  \"num_hidden_layers\": 12,\n",
            "  \"num_labels\": 2,\n",
            "  \"output_attentions\": false,\n",
            "  \"output_hidden_states\": false,\n",
            "  \"pruned_heads\": {},\n",
            "  \"torchscript\": false,\n",
            "  \"type_vocab_size\": 2,\n",
            "  \"vocab_size\": 30522\n",
            "}\n",
            "\n",
            "[2019-09-14 13:33:07,077 INFO] https://s3.amazonaws.com/models.huggingface.co/bert/bert-base-uncased-pytorch_model.bin not found in cache or force_download set to True, downloading to /tmp/tmptz_6gvgf\n",
            " 44% 195206144/440473133 [00:13<00:15, 16004291.43B/s]Traceback (most recent call last):\n",
            "  File \"/usr/local/lib/python3.6/dist-packages/urllib3/response.py\", line 362, in _error_catcher\n",
            "    yield\n",
            "  File \"/usr/local/lib/python3.6/dist-packages/urllib3/response.py\", line 444, in read\n",
            "    data = self._fp.read(amt)\n",
            "  File \"/usr/lib/python3.6/http/client.py\", line 449, in read\n",
            "    n = self.readinto(b)\n",
            "  File \"/usr/lib/python3.6/http/client.py\", line 493, in readinto\n",
            "    n = self.fp.readinto(b)\n",
            "  File \"/usr/lib/python3.6/socket.py\", line 586, in readinto\n",
            "    return self._sock.recv_into(b)\n",
            "  File \"/usr/lib/python3.6/ssl.py\", line 1012, in recv_into\n",
            "    return self.read(nbytes, buffer)\n",
            "  File \"/usr/lib/python3.6/ssl.py\", line 874, in read\n",
            "    return self._sslobj.read(len, buffer)\n",
            "  File \"/usr/lib/python3.6/ssl.py\", line 631, in read\n",
            "    v = self._sslobj.read(len, buffer)\n",
            "KeyboardInterrupt\n",
            "\n",
            "During handling of the above exception, another exception occurred:\n",
            "\n",
            "Traceback (most recent call last):\n",
            "  File \"src/train.py\", line 146, in <module>\n",
            "    train_ext(args, device_id)\n",
            "  File \"/content/PreSumm/src/train_extractive.py\", line 203, in train_ext\n",
            "    train_single_ext(args, device_id)\n",
            "  File \"/content/PreSumm/src/train_extractive.py\", line 239, in train_single_ext\n",
            "    model = ExtSummarizer(args, device, checkpoint)\n",
            "  File \"/content/PreSumm/src/models/model_builder.py\", line 140, in __init__\n",
            "    self.bert = Bert(args.large, args.temp_dir, args.finetune_bert)\n",
            "  File \"/content/PreSumm/src/models/model_builder.py\", line 121, in __init__\n",
            "    self.model = BertModel.from_pretrained('bert-base-uncased', cache_dir=temp_dir)\n",
            "  File \"/usr/local/lib/python3.6/dist-packages/pytorch_transformers/modeling_utils.py\", line 514, in from_pretrained\n",
            "    resolved_archive_file = cached_path(archive_file, cache_dir=cache_dir, force_download=force_download, proxies=proxies)\n",
            "  File \"/usr/local/lib/python3.6/dist-packages/pytorch_transformers/file_utils.py\", line 118, in cached_path\n",
            "    return get_from_cache(url_or_filename, cache_dir=cache_dir, force_download=force_download, proxies=proxies)\n",
            "  File \"/usr/local/lib/python3.6/dist-packages/pytorch_transformers/file_utils.py\", line 244, in get_from_cache\n",
            "    http_get(url, temp_file, proxies=proxies)\n",
            "  File \"/usr/local/lib/python3.6/dist-packages/pytorch_transformers/file_utils.py\", line 184, in http_get\n",
            "    for chunk in req.iter_content(chunk_size=1024):\n",
            "  File \"/usr/local/lib/python3.6/dist-packages/requests/models.py\", line 750, in generate\n",
            "    for chunk in self.raw.stream(chunk_size, decode_content=True):\n",
            "  File \"/usr/local/lib/python3.6/dist-packages/urllib3/response.py\", line 496, in stream\n",
            "    data = self.read(amt=amt, decode_content=decode_content)\n",
            "  File \"/usr/local/lib/python3.6/dist-packages/urllib3/response.py\", line 461, in read\n",
            "    raise IncompleteRead(self._fp_bytes_read, self.length_remaining)\n",
            "  File \"/usr/lib/python3.6/contextlib.py\", line 99, in __exit__\n",
            "    self.gen.throw(type, value, traceback)\n",
            "  File \"/usr/local/lib/python3.6/dist-packages/urllib3/response.py\", line 393, in _error_catcher\n",
            "    self._original_response.close()\n",
            "  File \"/usr/lib/python3.6/http/client.py\", line 407, in close\n",
            "    super().close() # set \"closed\" flag\n",
            "  File \"/usr/lib/python3.6/http/client.py\", line 417, in flush\n",
            "    def flush(self):\n",
            "KeyboardInterrupt\n",
            " 45% 197744640/440473133 [00:13<00:16, 14427203.82B/s]\n"
          ],
          "name": "stdout"
        }
      ]
    },
    {
      "cell_type": "code",
      "metadata": {
        "id": "D2HLx1Su6Uaa",
        "colab_type": "code",
        "colab": {}
      },
      "source": [
        ""
      ],
      "execution_count": 0,
      "outputs": []
    }
  ]
}