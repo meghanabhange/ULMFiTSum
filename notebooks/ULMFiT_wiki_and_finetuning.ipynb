{
  "nbformat": 4,
  "nbformat_minor": 0,
  "metadata": {
    "colab": {
      "name": "ULMFiT_wiki_and_finetuning.ipynb",
      "version": "0.3.2",
      "provenance": [],
      "collapsed_sections": []
    },
    "kernelspec": {
      "name": "python3",
      "display_name": "Python 3"
    },
    "accelerator": "GPU"
  },
  "cells": [
    {
      "cell_type": "markdown",
      "metadata": {
        "id": "cJklTteqOnZ2",
        "colab_type": "text"
      },
      "source": [
        "# Starting with Imports\n",
        "\n",
        "Well--uh--it works"
      ]
    },
    {
      "cell_type": "code",
      "metadata": {
        "id": "0JZ1YhFP8jgs",
        "colab_type": "code",
        "outputId": "8051e16b-c893-4109-8e01-3bda3344c1cb",
        "colab": {
          "base_uri": "https://localhost:8080/",
          "height": 411
        }
      },
      "source": [
        "!pip install gensim\n",
        "!curl https://course-v3.fast.ai/setup/colab | bash"
      ],
      "execution_count": 0,
      "outputs": [
        {
          "output_type": "stream",
          "text": [
            "Requirement already satisfied: gensim in /usr/local/lib/python3.6/dist-packages (3.6.0)\n",
            "Requirement already satisfied: numpy>=1.11.3 in /usr/local/lib/python3.6/dist-packages (from gensim) (1.16.4)\n",
            "Requirement already satisfied: smart-open>=1.2.1 in /usr/local/lib/python3.6/dist-packages (from gensim) (1.8.4)\n",
            "Requirement already satisfied: six>=1.5.0 in /usr/local/lib/python3.6/dist-packages (from gensim) (1.12.0)\n",
            "Requirement already satisfied: scipy>=0.18.1 in /usr/local/lib/python3.6/dist-packages (from gensim) (1.3.1)\n",
            "Requirement already satisfied: boto>=2.32 in /usr/local/lib/python3.6/dist-packages (from smart-open>=1.2.1->gensim) (2.49.0)\n",
            "Requirement already satisfied: boto3 in /usr/local/lib/python3.6/dist-packages (from smart-open>=1.2.1->gensim) (1.9.216)\n",
            "Requirement already satisfied: requests in /usr/local/lib/python3.6/dist-packages (from smart-open>=1.2.1->gensim) (2.21.0)\n",
            "Requirement already satisfied: jmespath<1.0.0,>=0.7.1 in /usr/local/lib/python3.6/dist-packages (from boto3->smart-open>=1.2.1->gensim) (0.9.4)\n",
            "Requirement already satisfied: botocore<1.13.0,>=1.12.216 in /usr/local/lib/python3.6/dist-packages (from boto3->smart-open>=1.2.1->gensim) (1.12.216)\n",
            "Requirement already satisfied: s3transfer<0.3.0,>=0.2.0 in /usr/local/lib/python3.6/dist-packages (from boto3->smart-open>=1.2.1->gensim) (0.2.1)\n",
            "Requirement already satisfied: chardet<3.1.0,>=3.0.2 in /usr/local/lib/python3.6/dist-packages (from requests->smart-open>=1.2.1->gensim) (3.0.4)\n",
            "Requirement already satisfied: urllib3<1.25,>=1.21.1 in /usr/local/lib/python3.6/dist-packages (from requests->smart-open>=1.2.1->gensim) (1.24.3)\n",
            "Requirement already satisfied: idna<2.9,>=2.5 in /usr/local/lib/python3.6/dist-packages (from requests->smart-open>=1.2.1->gensim) (2.8)\n",
            "Requirement already satisfied: certifi>=2017.4.17 in /usr/local/lib/python3.6/dist-packages (from requests->smart-open>=1.2.1->gensim) (2019.6.16)\n",
            "Requirement already satisfied: docutils<0.16,>=0.10 in /usr/local/lib/python3.6/dist-packages (from botocore<1.13.0,>=1.12.216->boto3->smart-open>=1.2.1->gensim) (0.15.2)\n",
            "Requirement already satisfied: python-dateutil<3.0.0,>=2.1; python_version >= \"2.7\" in /usr/local/lib/python3.6/dist-packages (from botocore<1.13.0,>=1.12.216->boto3->smart-open>=1.2.1->gensim) (2.5.3)\n",
            "  % Total    % Received % Xferd  Average Speed   Time    Time     Time  Current\n",
            "                                 Dload  Upload   Total   Spent    Left  Speed\n",
            "100   287  100   287    0     0    538      0 --:--:-- --:--:-- --:--:--   537\n",
            "bash: line 1: syntax error near unexpected token `newline'\n",
            "bash: line 1: `<!DOCTYPE HTML PUBLIC \"-//IETF//DTD HTML 2.0//EN\">'\n"
          ],
          "name": "stdout"
        }
      ]
    },
    {
      "cell_type": "code",
      "metadata": {
        "id": "ak3K7ULgOyiz",
        "colab_type": "code",
        "colab": {}
      },
      "source": [
        "%reload_ext autoreload\n",
        "%autoreload 2\n",
        "%matplotlib inline\n"
      ],
      "execution_count": 0,
      "outputs": []
    },
    {
      "cell_type": "code",
      "metadata": {
        "id": "qZOdg0h4O9ML",
        "colab_type": "code",
        "colab": {}
      },
      "source": [
        "from fastai import *\n",
        "from fastai.text import *\n",
        "from gensim.corpora import WikiCorpus"
      ],
      "execution_count": 0,
      "outputs": []
    },
    {
      "cell_type": "code",
      "metadata": {
        "id": "-4dejuoPO9wh",
        "colab_type": "code",
        "outputId": "d9922e95-9703-4574-b5ee-5d17837e9d58",
        "colab": {
          "base_uri": "https://localhost:8080/",
          "height": 34
        }
      },
      "source": [
        "from google.colab import drive\n",
        "drive.mount('/gdrive', force_remount=True)"
      ],
      "execution_count": 0,
      "outputs": [
        {
          "output_type": "stream",
          "text": [
            "Mounted at /gdrive\n"
          ],
          "name": "stdout"
        }
      ]
    },
    {
      "cell_type": "code",
      "metadata": {
        "id": "TX3z3AFRO_x9",
        "colab_type": "code",
        "colab": {}
      },
      "source": [
        "bs=48"
      ],
      "execution_count": 0,
      "outputs": []
    },
    {
      "cell_type": "markdown",
      "metadata": {
        "id": "CSx6ut2zzH4y",
        "colab_type": "text"
      },
      "source": [
        "# Some Callbacks"
      ]
    },
    {
      "cell_type": "code",
      "metadata": {
        "id": "C66KSRKxzKVV",
        "colab_type": "code",
        "colab": {}
      },
      "source": [
        "from fastai.callbacks import *\n",
        "class EarlyStoppingMod(TrackerCallback):\n",
        "    \"A `TrackerCallback` that terminates training when monitored quantity stops improving.\"\n",
        "    def __init__(self, learn:Learner, monitor:str='valid_loss',expected_value:int=0):\n",
        "        super().__init__(learn, monitor=monitor, mode=\"auto\") \n",
        "        self.expected_value = expected_value\n",
        "\n",
        "    def on_train_begin(self, **kwargs:Any)->None:\n",
        "        \"Initialize inner arguments.\"\n",
        "        super().on_train_begin(**kwargs)\n",
        "\n",
        "    def on_epoch_end(self, epoch, **kwargs:Any)->None:\n",
        "        \"Compare the value monitored to its best score and maybe stop training.\"\n",
        "        current = self.get_monitor_value()\n",
        "        if not current : \n",
        "          return None\n",
        "        print(f\"Heyya, This is Current : {current} and expected value {self.expected_value}\")\n",
        "        if current <= self.expected_value:\n",
        "          print(f\"Whohoo! The current {monitor} is less than expected\")\n",
        "          return {\"stop_training\":True}"
      ],
      "execution_count": 0,
      "outputs": []
    },
    {
      "cell_type": "markdown",
      "metadata": {
        "id": "BDRS7nlbPJ7Y",
        "colab_type": "text"
      },
      "source": [
        "# Downloading WikiPedia\n",
        "\n",
        "- First downloading wikipedia dump, you can find wikipedia dump at `https://dumps.wikimedia.org/{language_id_you_want}wiki/` \n",
        "Indonesian wiki can be found [here](https://dumps.wikimedia.org/idwiki/20190520/idwiki-20190520-pages-articles-multistream.xml.bz2)\n",
        "\n"
      ]
    },
    {
      "cell_type": "code",
      "metadata": {
        "id": "Gvp5iwCHPL4c",
        "colab_type": "code",
        "outputId": "1c15e1be-bb81-48d8-e8e6-bb26b789a9ae",
        "colab": {
          "base_uri": "https://localhost:8080/",
          "height": 68
        }
      },
      "source": [
        "!curl -O https://dumps.wikimedia.org/idwiki/20190520/idwiki-20190520-pages-articles-multistream.xml.bz2\n",
        "path = Path('/gdrive/My Drive/data/idwiki') #Downloading this in idwiki folder in your mounted google drive"
      ],
      "execution_count": 0,
      "outputs": [
        {
          "output_type": "stream",
          "text": [
            "  % Total    % Received % Xferd  Average Speed   Time    Time     Time  Current\n",
            "                                 Dload  Upload   Total   Spent    Left  Speed\n",
            "100  537M  100  537M    0     0  2009k      0  0:04:33  0:04:33 --:--:-- 2033k\n"
          ],
          "name": "stdout"
        }
      ]
    },
    {
      "cell_type": "markdown",
      "metadata": {
        "id": "6f2BZMjpPb-R",
        "colab_type": "text"
      },
      "source": [
        "Refer [this notebook](https://github.com/dzlab/deepprojects/blob/master/nlp/ULMFiT_Arabic_LM.ipynb) for the download scripts for making wikipedia corpus on any language"
      ]
    },
    {
      "cell_type": "code",
      "metadata": {
        "id": "nWp_V9fPaOut",
        "colab_type": "code",
        "colab": {}
      },
      "source": [
        "def next_fname(output_dir, num=0):\n",
        "    \"\"\"Get the next filename to use for writing new articles.\"\"\"\n",
        "    count = 0\n",
        "    fname = output_dir + '/' + '{:>07d}'.format(num) + '.txt' #What the fuck does this even mean or do?\n",
        "    return count, (num+1), fname\n",
        "\n",
        "\n",
        "def make_corpus(input_file, output_dir, size=10000):\n",
        "    \"\"\"Convert Wikipedia xml dump file to text corpus\n",
        "    \n",
        "    Note: You can set max number of size. Save space and your mental energy when dealing with stuff\n",
        "    \n",
        "    \"\"\"\n",
        "    print(\"loading wiki\")\n",
        "    wiki = WikiCorpus(input_file)#Makes WikiCorpus check `https://radimrehurek.com/gensim/corpora/wikicorpus.html` for documentation\n",
        "    count, num, fname = next_fname(output_dir) #Give you the next file name for article\n",
        "    print(f\"count, num, fname : {count, num, fname}\")\n",
        "    output = open(fname, 'w')\n",
        "\n",
        "    # iterate over texts and store them\n",
        "    for text in wiki.get_texts():\n",
        "        output.write(bytes(' '.join(text), 'utf-8').decode('utf-8') + '\\n')\n",
        "        count += 1\n",
        "        if (count == size):\n",
        "            print('%s Done.' % fname)\n",
        "            output.close()\n",
        "            count, num, fname = next_fname(output_dir, num)\n",
        "            output = open(fname, 'w')\n",
        "            break #because we only really need one file for training the model for now. \n",
        "\n",
        "    # clean up resources\n",
        "    output.close()\n",
        "    print('Completed.')\n",
        "    return wiki\n",
        "    \n",
        "wiki = make_corpus('idwiki-20190520-pages-articles-multistream.xml.bz2',path.as_posix())"
      ],
      "execution_count": 0,
      "outputs": []
    },
    {
      "cell_type": "code",
      "metadata": {
        "id": "g0hurWXygoJ5",
        "colab_type": "code",
        "colab": {}
      },
      "source": [
        "!mkdir data\n",
        "!cp /gdrive/My\\ Drive/data/idwiki/0000000.txt data/ # copying the data from gdrive to data\n",
        "PATH = Path('./data'); PATH.ls()"
      ],
      "execution_count": 0,
      "outputs": []
    },
    {
      "cell_type": "code",
      "metadata": {
        "id": "qUCmTIXeg9k2",
        "colab_type": "code",
        "colab": {}
      },
      "source": [
        "!head data/0000000.txt"
      ],
      "execution_count": 0,
      "outputs": []
    },
    {
      "cell_type": "code",
      "metadata": {
        "id": "ChSIOTmYhBmJ",
        "colab_type": "code",
        "colab": {}
      },
      "source": [
        "!wc -l data/0000000.txt #Gives Word Count"
      ],
      "execution_count": 0,
      "outputs": []
    },
    {
      "cell_type": "code",
      "metadata": {
        "id": "UlIzGoNLjCcZ",
        "colab_type": "code",
        "colab": {}
      },
      "source": [
        "df = pd.read_csv(Path(path)/'0000000.txt', header=None); df.head() #Sanity Check"
      ],
      "execution_count": 0,
      "outputs": []
    },
    {
      "cell_type": "code",
      "metadata": {
        "id": "DbYp5st5jLpJ",
        "colab_type": "code",
        "colab": {}
      },
      "source": [
        "\"\"\"\n",
        "Change this to use LangTokenizer directly from Fastai\n",
        "\"\"\"\n",
        "class LangTokenizer(BaseTokenizer):\n",
        "    def __init__(\n",
        "        self, lang: str, vocab_size: int = 60000, path_to_sp=f\"sentencepiece/\"):\n",
        "        self.lang = lang\n",
        "        self.vocab_size = vocab_size\n",
        "        self.sp = spm.SentencePieceProcessor()\n",
        "        self.sp.Load(path_to_sp + f\"{lang}_lm.model\")\n",
        "        self.vocab = Vocab([self.sp.IdToPiece(int(i)) for i in range(self.vocab_size)]) #Read about what this does exactly\n",
        "\n",
        "    def tokenizer(self, t: str) -> List[str]:\n",
        "        return self.sp.EncodeAsPieces(t)\n",
        "\n",
        "    def detokenizer(self, t: List[str]) -> str:\n",
        "        return self.sp.DecodePieces(t)\n",
        "      \n",
        "# tokenizer= Tokenizer(tok_func=LangTokenizer, lang=\"id\") #Also What Fastai does with this Tokenizer class, what does it exactly do"
      ],
      "execution_count": 0,
      "outputs": []
    },
    {
      "cell_type": "code",
      "metadata": {
        "id": "xWDOLzoCosOQ",
        "colab_type": "code",
        "outputId": "4b94caa0-d0a9-4f83-e883-64984d13c50f",
        "colab": {
          "base_uri": "https://localhost:8080/",
          "height": 136
        }
      },
      "source": [
        "\"\"\"\n",
        "We are using sentencepiece Tokenizer because it's language independant, this downloads sentencepiece\n",
        "\"\"\"\n",
        "!cp /gdrive/My\\ Drive/ULMFiTSum/sentencepiece.tar.gz data/\n",
        "!tar -xvf data/sentencepiece.tar.gz\n",
        "!pip install sentencepiece\n",
        "import sentencepiece as spm\n",
        "spm.SentencePieceProcessor()\n",
        "tokenizer= Tokenizer(tok_func=LangTokenizer, lang=\"id\") #Also What Fastai does with this Tokenizer class, what does it exactly do"
      ],
      "execution_count": 0,
      "outputs": [
        {
          "output_type": "stream",
          "text": [
            "sentencepiece/\n",
            "sentencepiece/id_lm.model\n",
            "sentencepiece/hi_lm.vocab\n",
            "sentencepiece/hi_lm.model\n",
            "sentencepiece/de_lm.model\n",
            "sentencepiece/id_lm.vocab\n",
            "Requirement already satisfied: sentencepiece in /usr/local/lib/python3.6/dist-packages (0.1.83)\n"
          ],
          "name": "stdout"
        }
      ]
    },
    {
      "cell_type": "code",
      "metadata": {
        "id": "TKLhoDiD8pUv",
        "colab_type": "code",
        "outputId": "429582a5-19fa-4999-df6d-b4ed09d1685a",
        "colab": {
          "base_uri": "https://localhost:8080/",
          "height": 153
        }
      },
      "source": [
        "PATH = Path('./data'); PATH.ls()"
      ],
      "execution_count": 0,
      "outputs": [
        {
          "output_type": "execute_result",
          "data": {
            "text/plain": [
              "[PosixPath('data/data_lm.pkl'),\n",
              " PosixPath('data/indosum_test.csv'),\n",
              " PosixPath('data/data_save.pkl'),\n",
              " PosixPath('data/indosum_dev.csv'),\n",
              " PosixPath('data/models'),\n",
              " PosixPath('data/indosum_train.csv'),\n",
              " PosixPath('data/0000000.txt'),\n",
              " PosixPath('data/sentencepiece.tar.gz')]"
            ]
          },
          "metadata": {
            "tags": []
          },
          "execution_count": 12
        }
      ]
    },
    {
      "cell_type": "code",
      "metadata": {
        "id": "ZBX9uQLBjuwG",
        "colab_type": "code",
        "colab": {}
      },
      "source": [
        "data_lm = TextLMDataBunch.from_csv(PATH, \n",
        "                                   '0000000.txt', \n",
        "                                   tokenizer=tokenizer, \n",
        "                                   bs=48, \n",
        "                                   header=None, \n",
        "                                   text_cols=0, \n",
        "                                   label_cols=None)\n",
        "data_lm.save(file=\"idwiki_data.pkl\")"
      ],
      "execution_count": 0,
      "outputs": []
    },
    {
      "cell_type": "code",
      "metadata": {
        "id": "maLshQGu80Tu",
        "colab_type": "code",
        "outputId": "f6339d0b-66a1-425e-ba3a-eb26cab176eb",
        "colab": {
          "base_uri": "https://localhost:8080/",
          "height": 68
        }
      },
      "source": [
        "# !mkdir data/\n",
        "!ls data"
      ],
      "execution_count": 0,
      "outputs": [
        {
          "output_type": "stream",
          "text": [
            "0000000.txt    idwiki_data.pkl\t indosum_train.csv\n",
            "data_lm.pkl    indosum_dev.csv\t models\n",
            "data_save.pkl  indosum_test.csv  sentencepiece.tar.gz\n"
          ],
          "name": "stdout"
        }
      ]
    },
    {
      "cell_type": "code",
      "metadata": {
        "id": "RZih3WsZGLeM",
        "colab_type": "code",
        "colab": {}
      },
      "source": [
        "# !cp data/idwiki_data.pkl /gdrive/My\\ Drive/data/\n",
        "# !cp /gdrive/My\\ Drive/data/data_save.pkl data/idwiki_data.pkl"
      ],
      "execution_count": 0,
      "outputs": []
    },
    {
      "cell_type": "code",
      "metadata": {
        "id": "YzRz1QKMqe9-",
        "colab_type": "code",
        "colab": {}
      },
      "source": [
        "PATH = Path('./data'); PATH.ls()\n",
        "data_lm = load_data(PATH,file=\"idwiki_data.pkl\", bs=bs)"
      ],
      "execution_count": 0,
      "outputs": []
    },
    {
      "cell_type": "code",
      "metadata": {
        "id": "yKoB-omSrGaP",
        "colab_type": "code",
        "outputId": "2be63a43-2d01-4fb0-807b-31ea552d1c3d",
        "colab": {
          "base_uri": "https://localhost:8080/",
          "height": 374
        }
      },
      "source": [
        "data_lm.show_batch()"
      ],
      "execution_count": 0,
      "outputs": [
        {
          "output_type": "display_data",
          "data": {
            "text/html": [
              "<table border=\"1\" class=\"dataframe\">\n",
              "  <thead>\n",
              "    <tr style=\"text-align: right;\">\n",
              "      <th>idx</th>\n",
              "      <th>text</th>\n",
              "    </tr>\n",
              "  </thead>\n",
              "  <tbody>\n",
              "    <tr>\n",
              "      <td>0</td>\n",
              "      <td>▁bahasa ▁ hong aria ▁diperkirakan ▁berasal ▁dari ▁siber ia ▁dengan ▁nama ▁ ono guo roi ▁namun ▁asal ▁usul ▁mereka ▁masih ▁sangat ▁kabur ▁dan ▁sulit ▁dibuktikan ▁ada ▁juga ▁yang ▁meng kaitkan ▁hubungan ▁antara ▁bahasa ▁ hong aria ▁dengan ▁bahasa ▁kaum ▁ hun ▁yang ▁pernah ▁menguasai ▁padang ▁rumput ▁asia ▁tengah ▁hingga ▁eropa ▁namun ▁hal ▁ini ▁juga ▁masih ▁diragukan ▁kelompok ▁bahasa ▁ hong aria ▁digolongkan ▁dalam ▁bahasa ▁fin no ▁ ug rik ▁menarik</td>\n",
              "    </tr>\n",
              "    <tr>\n",
              "      <td>1</td>\n",
              "      <td>▁view ▁to ▁the ▁town ▁lu cas kerk ▁and ▁tower ▁near ▁ lies veld via duk t ▁file ▁v la ard ingen ▁o ude ▁sta ds huis ▁ jpg ▁ old ▁town ▁hal l ▁file ▁v la ard ingen ▁ vis bank ▁ jpg ▁ vis bank ▁file ▁v la ard ingen ▁bru g ▁a chter ▁de ▁ vis bank ▁ jpg ▁o ude ▁ haven br ug ▁file ▁v la</td>\n",
              "    </tr>\n",
              "    <tr>\n",
              "      <td>2</td>\n",
              "      <td>▁keju ▁setelah ▁dibuka ▁dan ▁tidak ▁ditaruh ▁di ▁lemari ▁pendingin ▁keju ▁segar ▁beberapa ▁hari ▁hingga ▁dua ▁minggu ▁lebih ▁keju ▁lunak ▁dua ▁minggu ▁bila ▁ditaruh ▁dalam ▁bungkus ▁plastik ▁keju ▁semi ▁lunak ▁dua ▁hingga ▁empat ▁minggu ▁keju ▁keras ▁lima ▁minggu ▁hingga ▁beberapa ▁bulan ▁keju ▁sangat ▁keras ▁lebih ▁dari ▁satu ▁tahun ▁berbagai ▁macam ▁keju ▁di ▁saji kan ▁dalam ▁satu ▁piring ▁penyajian ▁keju ▁harus ▁selalu ▁disajikan ▁bersuhu ▁ruangan ▁dan ▁bukan ▁keju ▁dingin ▁langsung ▁dari ▁lemari</td>\n",
              "    </tr>\n",
              "    <tr>\n",
              "      <td>3</td>\n",
              "      <td>▁dengan ▁ anne ▁fra nk ▁ search ing ▁for ▁ anne ▁fra nk ▁ letter s ▁from ▁am ster dam ▁to ▁i owa ▁buku ▁tanya ▁sa vi chev a ▁seorang ▁anak ▁soviet ▁penulis ▁buku ▁harian ▁yang ▁mengalami ▁pengepungan ▁le ning rad ▁pada ▁masa ▁perang ▁dunia ▁ ii ▁catatan ▁dan ▁referensi ▁catatan ▁pen jelas ▁kutipan ▁daftar ▁pustaka ▁this ▁edition ▁new ▁trans lation ▁ include s ▁material ▁ex c lud ed ▁from</td>\n",
              "    </tr>\n",
              "    <tr>\n",
              "      <td>4</td>\n",
              "      <td>▁kota ▁dan ▁kota ▁terbesar ▁di ▁prefektur ▁naga saki ▁yang ▁terletak ▁di ▁pesisir ▁sebelah ▁barat ▁daya ▁ kyu shu ▁jepang ▁lokasi ▁geografisnya ▁adalah ▁lu ▁b t ▁naga saki ▁adalah ▁pusat ▁pengaruh ▁eropa ▁di ▁jepang ▁pada ▁zaman ▁pertengahan ▁kota ▁naga saki ▁yang ▁merupakan ▁kota ▁pelabuhan ▁di ▁jepang ▁merupakan ▁kota ▁yang ▁tidak ▁terisolasi ▁pada ▁waktu ▁jepang ▁menerapkan ▁politik ▁isolasi ▁ sak koku ▁pengaruh ▁eropa ▁juga ▁sangat ▁terlihat ▁dengan ▁pesat nya ▁perkembangan ▁agama ▁kristen</td>\n",
              "    </tr>\n",
              "  </tbody>\n",
              "</table>"
            ],
            "text/plain": [
              "<IPython.core.display.HTML object>"
            ]
          },
          "metadata": {
            "tags": []
          }
        }
      ]
    },
    {
      "cell_type": "code",
      "metadata": {
        "id": "VZ66VPFdMTRu",
        "colab_type": "code",
        "colab": {}
      },
      "source": [
        "!cp /gdrive/My\\ Drive/data/indosum_* data/"
      ],
      "execution_count": 0,
      "outputs": []
    },
    {
      "cell_type": "code",
      "metadata": {
        "id": "5pJN7p5mMd6S",
        "colab_type": "code",
        "outputId": "a5bb8bef-f149-4b8a-d2a1-49a1c96b654c",
        "colab": {
          "base_uri": "https://localhost:8080/",
          "height": 68
        }
      },
      "source": [
        "!ls data"
      ],
      "execution_count": 0,
      "outputs": [
        {
          "output_type": "stream",
          "text": [
            "0000000.txt    idwiki_data.pkl\t indosum_train.csv\n",
            "data_lm.pkl    indosum_dev.csv\t models\n",
            "data_save.pkl  indosum_test.csv  sentencepiece.tar.gz\n"
          ],
          "name": "stdout"
        }
      ]
    },
    {
      "cell_type": "code",
      "metadata": {
        "id": "c9_7NtXFLwIg",
        "colab_type": "code",
        "colab": {}
      },
      "source": [
        "data_lm_indosum = TextLMDataBunch.from_csv(PATH, \n",
        "                                   'indosum_train.csv', \n",
        "                                   tokenizer=tokenizer, \n",
        "                                   bs=48, \n",
        "                                   header=None, \n",
        "                                   text_cols=0, \n",
        "                                   label_cols=None,\n",
        "                                   vocab = data_lm.vocab)\n",
        "data_lm_indosum.save(file=\"indosum_data.pkl\")"
      ],
      "execution_count": 0,
      "outputs": []
    },
    {
      "cell_type": "code",
      "metadata": {
        "id": "t1d2MEsT9eD3",
        "colab_type": "code",
        "colab": {}
      },
      "source": [
        "!cp data/*_data.pkl /gdrive/My\\ Drive/data/"
      ],
      "execution_count": 0,
      "outputs": []
    },
    {
      "cell_type": "code",
      "metadata": {
        "id": "2PdYxSj-OHnj",
        "colab_type": "code",
        "outputId": "9777b53f-7073-4171-850b-f182d054dd84",
        "colab": {
          "base_uri": "https://localhost:8080/",
          "height": 68
        }
      },
      "source": [
        "!ls data/models"
      ],
      "execution_count": 0,
      "outputs": [
        {
          "output_type": "stream",
          "text": [
            "idwiki-13.pth  idwiki-4.pth  indosum-1.pth\t\t\ttmp.pth\n",
            "idwiki-1.pth   idwiki-6.pth  indowiki_encoder_attempt1.enc.pth\n",
            "idwiki-2.pth   idwiki-8.pth  indowiki_encoder_attempt2.enc.pth\n"
          ],
          "name": "stdout"
        }
      ]
    },
    {
      "cell_type": "markdown",
      "metadata": {
        "id": "wIpY7nvtrIfu",
        "colab_type": "text"
      },
      "source": [
        "# Training\n"
      ]
    },
    {
      "cell_type": "code",
      "metadata": {
        "id": "-sjWjqEzrJy-",
        "colab_type": "code",
        "colab": {}
      },
      "source": [
        "learn = language_model_learner(data_lm, \n",
        "                               AWD_LSTM, \n",
        "                               drop_mult=0.3, \n",
        "                               pretrained=False,\n",
        "                              metrics=[accuracy, Perplexity()]).to_fp16()\n",
        "learn.lr_find()\n",
        "learn.recorder.plot()"
      ],
      "execution_count": 0,
      "outputs": []
    },
    {
      "cell_type": "code",
      "metadata": {
        "id": "jtRox-ZvrPX0",
        "colab_type": "code",
        "outputId": "69e21a0c-bafe-425b-a14b-d7b48d75a1fa",
        "colab": {
          "base_uri": "https://localhost:8080/",
          "height": 80
        }
      },
      "source": [
        "learn.fit_one_cycle(1, 10e-1)"
      ],
      "execution_count": 0,
      "outputs": [
        {
          "output_type": "display_data",
          "data": {
            "text/html": [
              "<table border=\"1\" class=\"dataframe\">\n",
              "  <thead>\n",
              "    <tr style=\"text-align: left;\">\n",
              "      <th>epoch</th>\n",
              "      <th>train_loss</th>\n",
              "      <th>valid_loss</th>\n",
              "      <th>accuracy</th>\n",
              "      <th>perplexity</th>\n",
              "      <th>time</th>\n",
              "    </tr>\n",
              "  </thead>\n",
              "  <tbody>\n",
              "    <tr>\n",
              "      <td>0</td>\n",
              "      <td>nan</td>\n",
              "      <td>nan</td>\n",
              "      <td>0.000657</td>\n",
              "      <td>nan</td>\n",
              "      <td>30:46</td>\n",
              "    </tr>\n",
              "  </tbody>\n",
              "</table>"
            ],
            "text/plain": [
              "<IPython.core.display.HTML object>"
            ]
          },
          "metadata": {
            "tags": []
          }
        }
      ]
    },
    {
      "cell_type": "code",
      "metadata": {
        "id": "1UewJLx8rSa-",
        "colab_type": "code",
        "colab": {}
      },
      "source": [
        "learn.save('idwiki-1')\n",
        "learn.data.vocab.save('idwiki-1_vocab.pkl')\n",
        "!cp -r data/models /gdrive/My\\ Drive/data_final/"
      ],
      "execution_count": 0,
      "outputs": []
    },
    {
      "cell_type": "code",
      "metadata": {
        "id": "MdUEu5UQNYbW",
        "colab_type": "code",
        "colab": {}
      },
      "source": [
        "# !ls data/models"
      ],
      "execution_count": 0,
      "outputs": []
    },
    {
      "cell_type": "code",
      "metadata": {
        "id": "Ae_u2dfMrVci",
        "colab_type": "code",
        "colab": {}
      },
      "source": [
        "PATH = Path('/gdrive/My Drive/data')\n",
        "data_lm = load_data(PATH, bs=bs)\n",
        "learn = language_model_learner(data_lm, \n",
        "                               AWD_LSTM, \n",
        "                               drop_mult=0.3, \n",
        "                               pretrained=False,\n",
        "                              metrics=[accuracy, Perplexity()]).to_fp16()"
      ],
      "execution_count": 0,
      "outputs": []
    },
    {
      "cell_type": "code",
      "metadata": {
        "id": "X98dCWU2recP",
        "colab_type": "code",
        "colab": {}
      },
      "source": [
        "learn.load('idwiki-1')\n",
        "learn.unfreeze()"
      ],
      "execution_count": 0,
      "outputs": []
    },
    {
      "cell_type": "code",
      "metadata": {
        "id": "rabUV7GUbAF9",
        "colab_type": "code",
        "colab": {}
      },
      "source": [
        "!cp -r data/models /gdrive/My\\ Drive/data/\n",
        "learn.fit_one_cycle(10, 10e-1)\n",
        "learn.save(f'idwiki-11')\n",
        "learn.data.vocab.save('idwiki-11_vocab.pkl')\n",
        "learn.save_encoder(\"idwiki_encoder.enc\")"
      ],
      "execution_count": 0,
      "outputs": []
    },
    {
      "cell_type": "code",
      "metadata": {
        "id": "ewDY924rko5x",
        "colab_type": "code",
        "colab": {}
      },
      "source": [
        "!cp -r data/models /gdrive/My\\ Drive/data_final/"
      ],
      "execution_count": 0,
      "outputs": []
    },
    {
      "cell_type": "markdown",
      "metadata": {
        "id": "niFNRw0tNPfG",
        "colab_type": "text"
      },
      "source": [
        "#Indosum Training "
      ]
    },
    {
      "cell_type": "code",
      "metadata": {
        "id": "OurgmyPTNiUV",
        "colab_type": "code",
        "colab": {}
      },
      "source": [
        "!cp -r /gdrive/My\\ Drive/data_final/models data/"
      ],
      "execution_count": 0,
      "outputs": []
    },
    {
      "cell_type": "code",
      "metadata": {
        "id": "VhxWfeEVNQ5v",
        "colab_type": "code",
        "outputId": "26731b35-4304-477d-e63c-7381e45bb7ef",
        "colab": {
          "base_uri": "https://localhost:8080/",
          "height": 34
        }
      },
      "source": [
        "learn = language_model_learner(data_lm_indosum, \n",
        "                               AWD_LSTM, \n",
        "                               drop_mult=0.3,\n",
        "                               metrics=[accuracy, Perplexity()],\n",
        "                              callback_fns=[partial(EarlyStoppingMod, \n",
        "                                                    monitor='perplexity', \n",
        "                                                    expected_value=30)]).to_fp16()\n",
        "learn.load_encoder(\"indowiki_encoder_attempt2.enc\")\n",
        "learn.lr_find()"
      ],
      "execution_count": 0,
      "outputs": [
        {
          "output_type": "display_data",
          "data": {
            "text/html": [
              ""
            ],
            "text/plain": [
              "<IPython.core.display.HTML object>"
            ]
          },
          "metadata": {
            "tags": []
          }
        },
        {
          "output_type": "stream",
          "text": [
            "LR Finder is complete, type {learner_name}.recorder.plot() to see the graph.\n"
          ],
          "name": "stdout"
        }
      ]
    },
    {
      "cell_type": "code",
      "metadata": {
        "id": "X7ULDGlgNzzz",
        "colab_type": "code",
        "outputId": "655baffd-e0b8-4af9-abb3-33512e59ef98",
        "colab": {
          "base_uri": "https://localhost:8080/",
          "height": 283
        }
      },
      "source": [
        "learn.recorder.plot()"
      ],
      "execution_count": 0,
      "outputs": [
        {
          "output_type": "display_data",
          "data": {
            "image/png": "[encoded data removed]",
            "text/plain": [
              "<Figure size 432x288 with 1 Axes>"
            ]
          },
          "metadata": {
            "tags": []
          }
        }
      ]
    },
    {
      "cell_type": "code",
      "metadata": {
        "id": "h_-rB3asOLsf",
        "colab_type": "code",
        "outputId": "72df27c1-ee9a-4a51-fb7b-db724a9cbcf2",
        "colab": {
          "base_uri": "https://localhost:8080/",
          "height": 95
        }
      },
      "source": [
        "learn.fit_one_cycle(1, 5e-4)"
      ],
      "execution_count": 0,
      "outputs": [
        {
          "output_type": "display_data",
          "data": {
            "text/html": [
              "\n",
              "    <div>\n",
              "        <style>\n",
              "            /* Turns off some styling */\n",
              "            progress {\n",
              "                /* gets rid of default border in Firefox and Opera. */\n",
              "                border: none;\n",
              "                /* Needs to be in here for Safari polyfill so background images work as expected. */\n",
              "                background-size: auto;\n",
              "            }\n",
              "            .progress-bar-interrupted, .progress-bar-interrupted::-webkit-progress-bar {\n",
              "                background: #F44336;\n",
              "            }\n",
              "        </style>\n",
              "      <progress value='0' class='' max='1', style='width:300px; height:20px; vertical-align: middle;'></progress>\n",
              "      0.00% [0/1 00:00<00:00]\n",
              "    </div>\n",
              "    \n",
              "<table border=\"1\" class=\"dataframe\">\n",
              "  <thead>\n",
              "    <tr style=\"text-align: left;\">\n",
              "      <th>epoch</th>\n",
              "      <th>train_loss</th>\n",
              "      <th>valid_loss</th>\n",
              "      <th>accuracy</th>\n",
              "      <th>perplexity</th>\n",
              "      <th>time</th>\n",
              "    </tr>\n",
              "  </thead>\n",
              "  <tbody>\n",
              "  </tbody>\n",
              "</table><p>\n",
              "\n",
              "    <div>\n",
              "        <style>\n",
              "            /* Turns off some styling */\n",
              "            progress {\n",
              "                /* gets rid of default border in Firefox and Opera. */\n",
              "                border: none;\n",
              "                /* Needs to be in here for Safari polyfill so background images work as expected. */\n",
              "                background-size: auto;\n",
              "            }\n",
              "            .progress-bar-interrupted, .progress-bar-interrupted::-webkit-progress-bar {\n",
              "                background: #F44336;\n",
              "            }\n",
              "        </style>\n",
              "      <progress value='32' class='' max='8283', style='width:300px; height:20px; vertical-align: middle;'></progress>\n",
              "      0.39% [32/8283 00:19<1:23:04 6.5235]\n",
              "    </div>\n",
              "    "
            ],
            "text/plain": [
              "<IPython.core.display.HTML object>"
            ]
          },
          "metadata": {
            "tags": []
          }
        }
      ]
    },
    {
      "cell_type": "code",
      "metadata": {
        "id": "8JP5mSNLOPro",
        "colab_type": "code",
        "colab": {}
      },
      "source": [
        "learn.save('indosum-1')\n",
        "learn.data.vocab.save('indosum-1_vocab.pkl')"
      ],
      "execution_count": 0,
      "outputs": []
    },
    {
      "cell_type": "code",
      "metadata": {
        "id": "7hMdmAJVpVBg",
        "colab_type": "code",
        "colab": {}
      },
      "source": [
        "learn.unfreeze()"
      ],
      "execution_count": 0,
      "outputs": []
    },
    {
      "cell_type": "code",
      "metadata": {
        "id": "eLfEXR-hpVEc",
        "colab_type": "code",
        "colab": {}
      },
      "source": [
        "learn.fit_one_cycle(50, 5e-1)\n",
        "learn.save('indosum-30')\n",
        "learn.data.vocab.save('indosum-30_vocab.pkl')"
      ],
      "execution_count": 0,
      "outputs": []
    },
    {
      "cell_type": "code",
      "metadata": {
        "id": "bhp5YXsYpdsh",
        "colab_type": "code",
        "colab": {}
      },
      "source": [
        "!cp -r data/models /gdrive/My\\ Drive/data_final/"
      ],
      "execution_count": 0,
      "outputs": []
    },
    {
      "cell_type": "code",
      "metadata": {
        "id": "wtaJ-3a--N2w",
        "colab_type": "code",
        "colab": {}
      },
      "source": [
        ""
      ],
      "execution_count": 0,
      "outputs": []
    }
  ]
}